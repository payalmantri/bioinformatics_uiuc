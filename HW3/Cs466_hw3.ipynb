{
  "cells": [
    {
      "cell_type": "markdown",
      "metadata": {
        "id": "lp7tRZfFOZg6"
      },
      "source": [
        "# NOTE\n",
        "\n",
        "- Make a copy of this template before you start editing, and exported the file as a ipynb where you are done.\n",
        "\n",
        "- Before you turn this problem in, make sure everything runs as expected. First, **restart the kernel** (in the menubar, select Runtime$\\rightarrow$Factory reset runtime) and then **run all cells** (in the menubar, select Runtime$\\rightarrow$Run all).\n",
        "\n",
        "- Make sure you fill in any place that says `YOUR CODE HERE` or \"YOUR ANSWER HERE\". Fill out your name below in the `NAME` variable, leave the `COLLABORATORS` variable empty."
      ]
    },
    {
      "cell_type": "code",
      "execution_count": 1,
      "metadata": {
        "id": "t4fnV9HOOZg8"
      },
      "outputs": [],
      "source": [
        "NAME = \"payaljm2\"\n",
        "COLLABORATORS = \"\""
      ]
    },
    {
      "cell_type": "markdown",
      "metadata": {
        "id": "GuYaB4NSOZhA"
      },
      "source": [
        "---"
      ]
    },
    {
      "cell_type": "markdown",
      "metadata": {
        "id": "Mw9ZB73HOA-Z"
      },
      "source": [
        "# Assignment 3 - Phylogeny\n",
        "\n",
        "This assignment will focus on phylogeny, particularly the reconstruction of phylogenetic trees given sequence information. There are 3 parts to this assignment. They will total to 50 points for this homework."
      ]
    },
    {
      "cell_type": "code",
      "execution_count": 2,
      "metadata": {
        "colab": {
          "base_uri": "https://localhost:8080/"
        },
        "id": "-pNP2NHoOA-a",
        "outputId": "71f972f5-5bf3-4b0e-8e40-955465b6c678"
      },
      "outputs": [
        {
          "output_type": "stream",
          "name": "stdout",
          "text": [
            "Looking in indexes: https://pypi.org/simple, https://us-python.pkg.dev/colab-wheels/public/simple/\n",
            "Collecting nose\n",
            "  Downloading nose-1.3.7-py3-none-any.whl (154 kB)\n",
            "\u001b[K     |████████████████████████████████| 154 kB 10.5 MB/s \n",
            "\u001b[?25hInstalling collected packages: nose\n",
            "Successfully installed nose-1.3.7\n"
          ]
        }
      ],
      "source": [
        "# Setup dependencies\n",
        "\n",
        "! pip install nose\n",
        "\n",
        "import nose.tools as nt\n",
        "import copy\n",
        "from itertools import combinations"
      ]
    },
    {
      "cell_type": "markdown",
      "metadata": {
        "id": "Xij8fUkqOA-a"
      },
      "source": [
        "## Part 1 - The Four Point Condition - 10 points\n",
        "\n",
        "We know that a given square distance matrix is additive if and only if the four point condition holds for every leaf quartet $i,j,k,$ and $l$. For your convenience the Four Point condition is shown below. $$d_{i,j} + d_{k,l} \\leq d_{i,k} + d_{j,l} = d_{i,l} + d_{j,k}$$\n",
        "\n",
        "Complete the function `is_additive`, that takes an $n\\times n$ matrix $D$ and returns `True` if and only if D is additive."
      ]
    },
    {
      "cell_type": "code",
      "execution_count": 3,
      "metadata": {
        "id": "1t69Uw2DOA-b"
      },
      "outputs": [],
      "source": [
        "def is_additive(D):\n",
        "    \"\"\"\n",
        "    Returns true if the square matrix D is additive\n",
        "    \n",
        "    :param: D is an nxn list of lists of ints \n",
        "    :return: true if D is an additive distance matrix\n",
        "    \"\"\"\n",
        "    n = len(D)\n",
        "    # fourPointCombination= list(combinations(range(n), 4))\n",
        "    # print(fourPointCombination)\n",
        "\n",
        "    for i in range(n):\n",
        "      for j in range(i+1, n):\n",
        "        for k in range(j+1, n):\n",
        "          for l in range(k+1, n):\n",
        "            sum1 = D[i][j]+D[k][l]\n",
        "            sum2 = D[i][k]+D[j][l]\n",
        "            sum3 = D[i][l]+D[j][k]\n",
        "            # if(sum1==sum2 and sum1<sum3)\n",
        "              \n",
        "\n",
        "            l =[sum1, sum2,sum3]\n",
        "            maxsum = max(sum1, sum2, sum3)\n",
        "            isfollowingRule = l.count(maxsum)>=2\n",
        "            if isfollowingRule is False:\n",
        "               return False;\n",
        "    return True"
      ]
    },
    {
      "cell_type": "code",
      "execution_count": 4,
      "metadata": {
        "id": "CLiVengsOA-c"
      },
      "outputs": [],
      "source": [
        "### Student tests (You may add more)\n",
        "\n",
        "D0 = [\n",
        "    [0, 6, 13, 14],\n",
        "    [6, 0, 15, 16],\n",
        "    [13, 15, 0, 5],\n",
        "    [14, 16, 5, 0]\n",
        "]\n",
        "D1 = [\n",
        "    [0, 2, 4, 4],\n",
        "    [2, 0, 4, 4],\n",
        "    [4, 4, 0, 2],\n",
        "    [4, 4, 2, 0]\n",
        "]\n",
        "\n",
        "nt.assert_true(is_additive(D0))"
      ]
    },
    {
      "cell_type": "code",
      "execution_count": 5,
      "metadata": {
        "id": "HooH7uWdOA-e"
      },
      "outputs": [],
      "source": [
        "# HIDDEN TEST CELL DO NOT MODIFY\n"
      ]
    },
    {
      "cell_type": "code",
      "execution_count": 6,
      "metadata": {
        "id": "wY6ts-DMOA-e"
      },
      "outputs": [],
      "source": [
        "# HIDDEN TEST CELL DO NOT MODIFY\n"
      ]
    },
    {
      "cell_type": "markdown",
      "metadata": {
        "id": "sWueOowVOA-f"
      },
      "source": [
        "## Part 2 - Neighbor Joining - 20 points\n",
        "\n",
        "Recall that the neighbor joining algorithm is an approach to solving the Large Additive Distance phylogeny problem:\n",
        "\n",
        "Given $n\\times n$ matrix $D = [d_{ij}]$, find tree $T$ with $n$ leaves and edge weights such that $\\underset{(i,j)\\in[n]^2}{max}\\lvert d_T(i,j) - d_{i,j}\\rvert$.\n",
        "\n",
        "This effectively finds the closest $D'$ to the input matrix $D$ that is additive.\n",
        "\n",
        "Your task here will be to complete the function `neighbor_join` which will take an input distance matrix $D$, and construct its phylogenetic tree using the neighbor joining algorithm.\n",
        "\n",
        "The input `D` will be a list of lists. `D` will be defined on `n` leaves labelled with the integers `[0,..,n-1]` such that `D[i][j]` will be the distance between leaf `i` and leaf `j` $(i,j) \\in [n]^2$. Your function should create `n-2` additional internal vertices`[n,...,2n-3]` (for a total of $n+(n-2) = 2n-2$ vertices) corresponding to the joined leaves, and other joined clusters. The function should output an edge list `T` which will be a dict of dicts. The existence of `T[p][q]` will represent an edge in the final tree where $(p,q) \\in [2n-2]^2$, and the value of `T[p][q]` should be equal to the weight of the edge between node `p` and node `q`. Note that `T` does not have to contain a value for all `p,q`, however \n",
        "\n",
        "* If `T[p][q]` exists then its value must be the distance between the node `p` and the node `q`, and represents a single edge (not a path) between them.\n",
        "* If `T[p][q]` exists, then `T[q][p]` must also exist and it must be the case that `T[p][q] == T[q][p]`\n",
        "\n",
        "Note: The above rules mean that `T` must contain `2n-3` unique edges, or that it must have `4n-6` values.\n",
        "\n",
        "**The neighbor joining algorithm is specified here for your convenience:**\n",
        "Let `D` be an `mxm` matrix:\n",
        "* Until you have only 2 clusters, or `len(D)==2` (because NJ constructs unrooted binary trees)\n",
        "    * Compute `u_k = sum(D[k])` for all `0<=k<len(D)`\n",
        "    * Find pair of nodes `(i,j)` that minimizes `S[i][j] = (m-2)*D[i][j] - u_i -u_j`. A helper function has been given to you for this.\n",
        "    * Create a node for `[ij]` using the next unused integer in `[0,...,2n-3]`. Call it `r`.\n",
        "    * Add edges `T[i][r], T[r][i], T[j][r],` and `T[r][j]`. The distance between the leaves and their corresponding internal node is: \n",
        "        * `T[r][i] = 0.5*(D[i][j] + (u_i - u_j)/(len(D)-2))`\n",
        "        * `T[r][j] = 0.5*(D[i][j] + (u_j - u_i)/(len(D)-2))`\n",
        "    * Precompute and add new row and column in `D` for `r` with distances:\n",
        "        * `D[r][m] = 0.5*(D[i][m] + D[j][m] - D[i][j])` for all `m!=i` and `m!=j`.\n",
        "    * Now we must remove the rows and columns for `i` and `j` from `D`.\n",
        "    * Update your internal node counter.\n",
        "* There is one last edge you may need to add here (why?).\n",
        "    \n",
        "*Testing your neighbor joining function is difficult, so we have provided a testing harness that takes an input matrix, and your output tree, and sums the paths inside the tree to recover a distance matrix between the leaves. The function `check_tree` will then compare the two matrices to see if all values are equal. Obviously, if your input matrix is not additive, this will not work. The hidden tests will test ONLY additive inputs. If you are writing your own test cases, we suggest you start with a tree, compute a distance matrix, then use it to check your code.*"
      ]
    },
    {
      "cell_type": "code",
      "execution_count": 7,
      "metadata": {
        "id": "Qk83KpDvJt1F"
      },
      "outputs": [],
      "source": [
        "import numpy as np"
      ]
    },
    {
      "cell_type": "code",
      "execution_count": 8,
      "metadata": {
        "id": "06DV3Ua_OA-h"
      },
      "outputs": [],
      "source": [
        "def check_tree(D,T):\n",
        "    \"\"\"\n",
        "    Implement floyd-warshall algorithm on the graph defined in T\n",
        "    \n",
        "    \"\"\"\n",
        "    \n",
        "    V = len(T)\n",
        "    dT = [[float(\"inf\") for i in range(V)] for j in range(V)]\n",
        "    n = (V + 2)//2\n",
        "    \n",
        "    # Length check\n",
        "    if n!=len(D):\n",
        "        return False\n",
        "    \n",
        "    # fill in existing edges\n",
        "    for k in T:\n",
        "        for l in T[k]:\n",
        "            dT[k][l] = T[k][l]\n",
        "            dT[l][k] = T[l][k]\n",
        "    \n",
        "    # fill in the diagonal elements \n",
        "    for i in range(len(dT)):\n",
        "        dT[i][i] = 0.0\n",
        "    \n",
        "    # relax edges \n",
        "    for k in range(V):\n",
        "        for i in range(V):\n",
        "            for j in range(V):\n",
        "                if dT[i][j] > dT[i][k] + dT[k][j]:\n",
        "                    dT[i][j] = dT[i][k] + dT[k][j]\n",
        "                    dT[j][i] = dT[i][j]\n",
        "    \n",
        "    for i in range(n) :\n",
        "        print(dT[i][:n])\n",
        "    # Check each value in dT\n",
        "    for i in range(n):\n",
        "        for j in range(n):\n",
        "            if D[i][j] != dT[i][j]:\n",
        "                return False\n",
        "    return True\n",
        "\n",
        "def min_S_value(D, u):\n",
        "    \"\"\"\n",
        "    returns the value (i,j) for which \n",
        "    (m-2)*D[i][j] - u_i - u_j is minimum\n",
        "    \"\"\"\n",
        "    m = len(D)\n",
        "    min_S, min_i, min_j = float(\"inf\"),-1,-1\n",
        "    for k in D:\n",
        "        for l in D[k]:\n",
        "            if l!=k:\n",
        "                crit = (m-2)*D[k][l] - u[k] - u[l]\n",
        "                if crit < min_S:\n",
        "                    min_S = crit\n",
        "                    min_i = k\n",
        "                    min_j = l\n",
        "    return (min_i, min_j)\n",
        "\n",
        "\n",
        "def neighbor_join(D):\n",
        "    \"\"\"\n",
        "    Takes a distance matrix D, and returns the tree T \n",
        "    consistent with the closest additive matrix D' to D.\n",
        "    \n",
        "    :param: D is a dict of dicts representing pairwise distances between leaves\n",
        "    :return: a dict of dicts that contains all the edges with their weights in the tree defined by D'.    \n",
        "    \"\"\"\n",
        "    \n",
        "    T = {}\n",
        "    r = len(D)\n",
        "    while len(D)>2:\n",
        "        u={}\n",
        "        # print(\"D1\",D)\n",
        "        for key in D:\n",
        "          u[key]=sum(D[key].values())\n",
        "        \n",
        "        i, j = min_S_value(D, u)\n",
        "        \n",
        "        if(not T.__contains__(i)):\n",
        "          T[i]={}\n",
        "        if(not T.__contains__(r)):\n",
        "          T[r]={}\n",
        "        if(not T.__contains__(j)):\n",
        "          T[j]={}\n",
        "        T[i][r] = 0.5*(D[i][j] + (u[i] - u[j])/(len(D)-2))\n",
        "        T[r][i] = 0.5*(D[i][j] + (u[i] - u[j])/(len(D)-2))\n",
        "        T[r][j] = 0.5*(D[i][j] + (u[j] - u[i])/(len(D)-2))\n",
        "        T[j][r] = 0.5*(D[i][j] + (u[j] - u[i])/(len(D)-2))\n",
        "        \n",
        "        D[r]={}\n",
        "        \n",
        "        for m in D:\n",
        "          \n",
        "          if m!=i and m!=j and m!=r:\n",
        "            D[r][m] = 0.5*(D[i][m] + D[j][m] - D[i][j]) #for all m!=i and m!=j.\n",
        "        D[r][r] = 0\n",
        "        del D[i]\n",
        "        del D[j]\n",
        "        for key in D:\n",
        "          D[key][r] = D[r][key]\n",
        "          if(D[key].__contains__(i)):\n",
        "            del D[key][i]\n",
        "          if(D[key].__contains__(j)):\n",
        "            del D[key][j]\n",
        "        r=r+1\n",
        "    # print(\"T\",T)\n",
        "    # print(\"D\",D)\n",
        "    if len(D)==2:\n",
        "       keys = list(D.keys())\n",
        "       i, j = keys[0], keys[1]\n",
        "       if(not T.__contains__(i)):\n",
        "          T[i]={}\n",
        "       if(not T.__contains__(j)):\n",
        "          T[j]={}\n",
        "       if(D[i].__contains__(j)):\n",
        "        T[i][j] = D[i][j]\n",
        "        T[j][i] = D[i][j]\n",
        "       elif D[j].__contains__(i):\n",
        "         T[i][j] = D[j][i]\n",
        "         T[j][i] = D[j][i]\n",
        "       \n",
        "\n",
        "    return T"
      ]
    },
    {
      "cell_type": "code",
      "execution_count": 8,
      "metadata": {
        "id": "bPptHr5AZf6A"
      },
      "outputs": [],
      "source": []
    },
    {
      "cell_type": "code",
      "execution_count": 9,
      "metadata": {
        "colab": {
          "base_uri": "https://localhost:8080/"
        },
        "id": "kXMpMf1gOA-i",
        "outputId": "1333d831-bd52-4db0-e5f9-123490c81eac"
      },
      "outputs": [
        {
          "output_type": "stream",
          "name": "stdout",
          "text": [
            "[0.0, 2.0, 4.0]\n",
            "[2.0, 0.0, 2.0]\n",
            "[4.0, 2.0, 0.0]\n"
          ]
        },
        {
          "output_type": "execute_result",
          "data": {
            "text/plain": [
              "{0: {4: 1.0},\n",
              " 4: {0: 1.0, 1: 1.0, 5: 2.0},\n",
              " 1: {4: 1.0},\n",
              " 2: {5: 1.0},\n",
              " 5: {2: 1.0, 3: 1.0, 4: 2.0},\n",
              " 3: {5: 1.0}}"
            ]
          },
          "metadata": {},
          "execution_count": 9
        }
      ],
      "source": [
        "### Student tests (You may add more)\n",
        "D0 = {\n",
        "    0: {0:0,1:2,2:4},\n",
        "    1: {0:2,1:0,2:2},\n",
        "    2: {0:4,1:2,2:0}\n",
        "}\n",
        "\n",
        "D1 = {\n",
        "    0: {0:0,1:2,2:4,3:4},\n",
        "    1: {0:2,1:0,2:4,3:4},\n",
        "    2: {0:4,1:4,2:0,3:2},\n",
        "    3: {0:4,1:4,2:2,3:0}\n",
        "}\n",
        "\n",
        "\n",
        "\n",
        "# D2 = {\n",
        "#     0: {0:0,1:5,2:4,3:7, 4:6, 5:8},\n",
        "#     1: {0:5,1:0,2:7,3:10,4:9, 5:7},\n",
        "#     2: {0:4,1:7,2:0,3:7, 4:6, 5:8},\n",
        "#     3: {0:7,1:10,2:7,3:0, 4:5, 5:9},\n",
        "#     4: {0:6,1:9,2:6,3:5, 4:0, 5:8},\n",
        "#     5: {0:8,1:7,2:8,3:9, 4:8, 5:0}\n",
        "# }\n",
        "        \n",
        "nt.assert_true(check_tree(copy.deepcopy(D0), neighbor_join(D0)))        \n",
        "#nt.assert_true(check_tree(copy.deepcopy(D1), neighbor_join(D1)))\n",
        "neighbor_join(D1)\n",
        "# print(\"D2\")\n",
        "# neighbor_join(D2)"
      ]
    },
    {
      "cell_type": "code",
      "execution_count": 9,
      "metadata": {
        "id": "r5pava-E0Ojc"
      },
      "outputs": [],
      "source": []
    },
    {
      "cell_type": "code",
      "execution_count": 10,
      "metadata": {
        "id": "H8DsKbAqOA-i"
      },
      "outputs": [],
      "source": [
        "# HIDDEN TEST CELL DO NOT MODIFY\n"
      ]
    },
    {
      "cell_type": "code",
      "execution_count": 11,
      "metadata": {
        "id": "vouUKdEwOA-j"
      },
      "outputs": [],
      "source": [
        "# HIDDEN TEST CELL DO NOT MODIFY\n"
      ]
    },
    {
      "cell_type": "markdown",
      "metadata": {
        "id": "t9us51XVOA-j"
      },
      "source": [
        "## Part 3 - Small Maximum Parsimony Phylogeny Problem - 20 points\n",
        "\n",
        "Given an $m\\times n$ matrix $A = [a_{ij}]$ and a tree $T$ with $m$ leaves, find the assignment of character states to the internal vertices of the tree that results in the minimum parsimony score.\n",
        "\n",
        "This problem is known as the small maximum parsimony phylogeny problem. This differs from the large problem in that you are given a phylogenetic tree.\n",
        "\n",
        "The algorithm you will implement is the Sankoff Algorithm shown in detail here https://cs.brown.edu/courses/csci1950-z/slides/CSCI1950ZFall09_Lecture2.pdf. The recurrence for the algorithm is given here for your convenience.\n",
        "\n",
        "Given rooted tree $T$ whose leaves are labelled by $\\sigma:L(T)\\rightarrow\\Sigma$\n",
        "\n",
        "$$c(s,t) = \\begin{cases}\n",
        "0 & \\text{if $s=t$}\\\\\n",
        "1,& \\text{if $s\\neq t$}\n",
        "\\end{cases}$$\n",
        "\n",
        "$$\\mu(v,s) = min\\begin{cases}\n",
        "\\infty & \\text{if $v \\in L(T)$ and $s\\neq \\sigma(v)$}\\\\\n",
        "0,& \\text{if $v \\in L(T)$ and $s=\\sigma(v)$}\\\\\n",
        "\\sum_{w\\in\\delta(v)}\\min_{t\\in\\Sigma}\\{c(s,t) + \\mu(s,t)\\},& \\text{if $v\\notin L(T)$}\\\\\n",
        "\\end{cases}$$\n",
        "\n",
        "Here, $\\mu(v,s)$ is the minimum number of mutations in the subtree rooted at $v$ when assigning state $s$ to $v$, and $\\delta(v)$ is the set of children of $v$.\n",
        "\n",
        "\n",
        "Given to you is the definition `Node` of a single vertex in the tree. Most of the information is stored in the nodes themselves.\n",
        "* `Node.name` is just a way to label the nodes to make it easier to understand the structure of the tree. \n",
        "* `Node.state` is the character assigned to that node\n",
        "* `Node.leaf` is a bool indicating  whether the node is a leaf\n",
        "* `Node.root` is a bool indicating whether the node is the root of the tree\n",
        "* `Node.parent` is a reference to the parent of the current node. This will be useful for backtraces.\n",
        "* `Node.children` is a list of references to the children nodes of the current node\n",
        "* `Node.mu` is a dict that maps the possible state assignments of the node to the minimum number of mutations in the subtree rooted at this node. You will primarily be modifying this data structure.\n",
        "* `Node.min_val` stores the minimum `mu` value for that node. ** You must at least set this for the root of your tree.**\n",
        "\n",
        "Complete the function `sankoff_fill` which takes a reference to the root_node of a tree that has the states filled in for its leaves, as well as a state_alphabet (a list of all possible character states). This function does not return anything, however it modifies the `Node.mu` for all of the nodes in the tree rooted at `root_node`. You must use the recurrence shown above.\n",
        "\n",
        "Also complete the `sankoff_backtrace` function which takes a reference to the root of a filled in tree `root_node`, as well as all possible characters as a list `state alphabet`, and performs a backtrace in order to fill in the states of each node in the tree with the correct character from the state alphabet. \n",
        "\n",
        "**NOTE**: There may be more than one solution that gives you the same parsimony score. You should break ties in the order they appear in the `state alphabet`."
      ]
    },
    {
      "cell_type": "code",
      "execution_count": 12,
      "metadata": {
        "id": "_pg9KIOLhgSD"
      },
      "outputs": [],
      "source": [
        "import math"
      ]
    },
    {
      "cell_type": "code",
      "execution_count": 13,
      "metadata": {
        "id": "5tDyOdCYOA-k"
      },
      "outputs": [],
      "source": [
        "class Node:\n",
        "    def __init__(self, name,  character, states_alphabet, root=False, leaf=False):\n",
        "        self.name = name\n",
        "        self.state = character\n",
        "        self.leaf = leaf\n",
        "        self.root = root\n",
        "        self.parent = None\n",
        "        self.children = []\n",
        "        self.mu = {s:float(\"inf\") for s in states_alphabet}\n",
        "        self.min_val = None\n",
        "        \n",
        "    def add_child(self, child):\n",
        "        self.children.append(child)\n",
        "        child.assign_parent(self)\n",
        "        \n",
        "    def assign_parent(self, parent):\n",
        "        self.parent = parent\n",
        "\n",
        "        \n",
        "def cost(s,t):\n",
        "    \"\"\"\n",
        "    Computes the cost of a mutation between s and t\n",
        "    \"\"\"\n",
        "    return 0 if s==t else 1\n",
        "\n",
        "\n",
        "def sankoff_fill(root_node, states_alphabet):\n",
        "    \"\"\"\n",
        "    Takes a reference to the root of a character based phylogeny tree,\n",
        "    and fills in the mu values for all nodes\n",
        "    \n",
        "    \"\"\"\n",
        "    if root_node.leaf:\n",
        "        root_node.mu[root_node.state] = 0\n",
        "        root_node.min_val = 0\n",
        "        print(root_node.state, root_node.mu)\n",
        "        # YOUR CODE HERE\n",
        "        # raise NotImplementedError()\n",
        "    else:\n",
        "        # recurse (post order traversal)\n",
        "        for w in root_node.children:\n",
        "            sankoff_fill(w, states_alphabet)\n",
        "        for s in alphabet:\n",
        "            sum = 0;\n",
        "            for child in root_node.children:\n",
        "                min_value = math.inf\n",
        "                for t in alphabet:\n",
        "                    if(min_value>cost(s,t)+child.mu[t]):\n",
        "                        min_value=cost(s,t)+child.mu[t]\n",
        "                sum+=min_value\n",
        "            root_node.mu[s] = sum\n",
        "        \n",
        "        root_node.min_val = min(root_node.mu.values())\n",
        "        print(root_node.state, root_node.mu, root_node.min_val)\n",
        "        # post order processing of current node\n",
        "        # YOUR CODE HERE\n",
        "        # raise NotImplementedError()\n",
        "    \n",
        "def sankoff_backtrace(root_node, state_alphabet):\n",
        "    \"\"\"\n",
        "    Takes a reference to the root node of a character based phylogeny tree and \n",
        "    fills in the state values with the appropriate character. \n",
        "    \n",
        "    \"\"\"\n",
        "    # base case\n",
        "    if root_node.leaf:\n",
        "        return\n",
        "    \n",
        "    # process current node\n",
        "    if root_node.root:\n",
        "        # YOUR CODE HERE\n",
        "        root_node.state = min(root_node.mu, key=root_node.mu.get)\n",
        "        # print(root_node.state)\n",
        "    else:\n",
        "        parent = root_node.parent;\n",
        "        parent_state = parent.state\n",
        "        min_state=''\n",
        "        min_val = math.inf\n",
        "        for s in alphabet:\n",
        "\n",
        "           val= cost(parent_state,s)+root_node.mu[s]\n",
        "           if(val<min_val):\n",
        "              min_val = val\n",
        "              min_state=s\n",
        "        # YOUR CODE HERE\n",
        "        root_node.state= min_state\n",
        "    \n",
        "    # recurse\n",
        "    for w in root_node.children:\n",
        "        sankoff_backtrace(w, state_alphabet)            "
      ]
    },
    {
      "cell_type": "code",
      "execution_count": 14,
      "metadata": {
        "colab": {
          "base_uri": "https://localhost:8080/"
        },
        "id": "-Kcr2pUlOA-l",
        "outputId": "ba65e667-d02d-4e44-f85e-66008d8e860c"
      },
      "outputs": [
        {
          "output_type": "stream",
          "name": "stdout",
          "text": [
            "A {'A': 0, 'C': inf, 'T': inf, 'G': inf}\n",
            "C {'A': inf, 'C': 0, 'T': inf, 'G': inf}\n",
            "None {'A': 1, 'C': 1, 'T': 2, 'G': 2} 1\n",
            "T {'A': inf, 'C': inf, 'T': 0, 'G': inf}\n",
            "G {'A': inf, 'C': inf, 'T': inf, 'G': 0}\n",
            "None {'A': 2, 'C': 2, 'T': 1, 'G': 1} 1\n",
            "None {'A': 3, 'C': 3, 'T': 3, 'G': 3} 3\n"
          ]
        }
      ],
      "source": [
        "### Student tests (You may add more)\n",
        "\n",
        "alphabet = ['A', 'C', 'T', 'G']\n",
        "\n",
        "# Construct tree with nodes named 0-6 from leaves to root\n",
        "#            6\n",
        "#          /  \\\n",
        "#         4    5\n",
        "#       / \\   / \\\n",
        "#      0  1  2  3\n",
        "#      A  C  T  G\n",
        "#\n",
        "\n",
        "leaves = []\n",
        "for i,s in enumerate(['A', 'C', 'T', 'G']):\n",
        "    leaves.append(Node(i, s, alphabet, root=False, leaf=True))\n",
        "node1 = Node(4, None,alphabet,False, False)\n",
        "node1.add_child(leaves[0])\n",
        "node1.add_child(leaves[1])\n",
        "node2 = Node(5, None,alphabet,False, False)\n",
        "node2.add_child(leaves[2])\n",
        "node2.add_child(leaves[3])\n",
        "root = Node(6, None, alphabet, True, False)\n",
        "root.add_child(node1)\n",
        "root.add_child(node2)\n",
        "\n",
        "sankoff_fill(root, alphabet)\n",
        "# print(root.mu.values())\n",
        "sankoff_backtrace(root,alphabet)\n",
        "\n",
        "nt.assert_equal(root.min_val, 3)\n",
        "nt.assert_equal(root.state, 'A')\n",
        "nt.assert_equal(node1.state, 'A')\n",
        "nt.assert_equal(node2.state, 'A')"
      ]
    },
    {
      "cell_type": "code",
      "execution_count": 14,
      "metadata": {
        "id": "cERBruSsmtO6"
      },
      "outputs": [],
      "source": []
    },
    {
      "cell_type": "code",
      "execution_count": 15,
      "metadata": {
        "id": "CMN4jrqaOA-m"
      },
      "outputs": [],
      "source": [
        "# HIDDEN TEST CELL DO NOT MODIFY\n"
      ]
    },
    {
      "cell_type": "code",
      "execution_count": 16,
      "metadata": {
        "id": "1iOrHpUHOA-n"
      },
      "outputs": [],
      "source": [
        "# HIDDEN TEST CELL DO NOT MODIFY\n"
      ]
    }
  ],
  "metadata": {
    "colab": {
      "provenance": []
    },
    "kernelspec": {
      "display_name": "Python 3",
      "language": "python",
      "name": "python3"
    },
    "language_info": {
      "codemirror_mode": {
        "name": "ipython",
        "version": 3
      },
      "file_extension": ".py",
      "mimetype": "text/x-python",
      "name": "python",
      "nbconvert_exporter": "python",
      "pygments_lexer": "ipython3",
      "version": "3.8.5"
    }
  },
  "nbformat": 4,
  "nbformat_minor": 0
}