{
  "nbformat": 4,
  "nbformat_minor": 0,
  "metadata": {
    "colab": {
      "provenance": [],
      "collapsed_sections": [],
      "toc_visible": true
    },
    "kernelspec": {
      "display_name": "Python 3",
      "language": "python",
      "name": "python3"
    },
    "language_info": {
      "codemirror_mode": {
        "name": "ipython",
        "version": 3
      },
      "file_extension": ".py",
      "mimetype": "text/x-python",
      "name": "python",
      "nbconvert_exporter": "python",
      "pygments_lexer": "ipython3",
      "version": "3.8.5"
    }
  },
  "cells": [
    {
      "cell_type": "markdown",
      "metadata": {
        "id": "lp7tRZfFOZg6"
      },
      "source": [
        "Before you turn this problem in, make sure everything runs as expected. First, **restart the kernel** (in the menubar, select Runtime$\\rightarrow$Factory reset runtime) and then **run all cells** (in the menubar, select Runtime$\\rightarrow$Run all).\n",
        "\n",
        "Make sure you fill in any place that says `YOUR CODE HERE` or \"YOUR ANSWER HERE\". Fill out your name below in the `NAME` variable, leave the `COLLABORATORS` variable empty."
      ]
    },
    {
      "cell_type": "code",
      "metadata": {
        "id": "t4fnV9HOOZg8"
      },
      "source": [
        "NAME = \"Payal Mantri\"\n",
        "COLLABORATORS = \"\""
      ],
      "execution_count": 39,
      "outputs": []
    },
    {
      "cell_type": "markdown",
      "metadata": {
        "id": "GuYaB4NSOZhA"
      },
      "source": [
        "---"
      ]
    },
    {
      "cell_type": "markdown",
      "metadata": {
        "deletable": false,
        "editable": false,
        "id": "PVLNYCWDo26k",
        "nbgrader": {
          "cell_type": "markdown",
          "checksum": "04577bd65a3b3658c831f999cbb52cda",
          "grade": false,
          "grade_id": "cell-4675131838cb443e",
          "locked": true,
          "schema_version": 3,
          "solution": false,
          "task": false
        }
      },
      "source": [
        "Install required dependency."
      ]
    },
    {
      "cell_type": "code",
      "metadata": {
        "deletable": false,
        "editable": false,
        "id": "tE5E-gV6o7tv",
        "nbgrader": {
          "cell_type": "code",
          "checksum": "c203f9acbfe134a2343eecab9d397b5f",
          "grade": false,
          "grade_id": "cell-5af4c9076118aacc",
          "locked": true,
          "schema_version": 3,
          "solution": false,
          "task": false
        },
        "outputId": "10190754-62d0-4cd6-deb5-af3b9b9d76db",
        "colab": {
          "base_uri": "https://localhost:8080/"
        }
      },
      "source": [
        "!pip install nose"
      ],
      "execution_count": 40,
      "outputs": [
        {
          "output_type": "stream",
          "name": "stdout",
          "text": [
            "Looking in indexes: https://pypi.org/simple, https://us-python.pkg.dev/colab-wheels/public/simple/\n",
            "Requirement already satisfied: nose in /usr/local/lib/python3.7/dist-packages (1.3.7)\n"
          ]
        }
      ]
    },
    {
      "cell_type": "markdown",
      "source": [
        "Import required packages"
      ],
      "metadata": {
        "id": "_tam0XD1PAmc"
      }
    },
    {
      "cell_type": "code",
      "source": [
        "import numpy as np"
      ],
      "metadata": {
        "id": "bXW9y9xRO_3e"
      },
      "execution_count": 41,
      "outputs": []
    },
    {
      "cell_type": "markdown",
      "metadata": {
        "deletable": false,
        "editable": false,
        "id": "PsqONjBfSWhx",
        "nbgrader": {
          "cell_type": "markdown",
          "checksum": "0767fb057e86cab65cbc09a9a68ccd2f",
          "grade": false,
          "grade_id": "cell-506c2d4969cf2ed1",
          "locked": true,
          "schema_version": 3,
          "solution": false,
          "task": false
        }
      },
      "source": [
        "Download the required data."
      ]
    },
    {
      "cell_type": "code",
      "metadata": {
        "deletable": false,
        "editable": false,
        "id": "RXlcaWyKQ6kt",
        "nbgrader": {
          "cell_type": "code",
          "checksum": "66152268ea1b65b1ebe89575f0d9a9dc",
          "grade": false,
          "grade_id": "cell-304a18bdb7d5ef59",
          "locked": true,
          "schema_version": 3,
          "solution": false,
          "task": false
        },
        "colab": {
          "base_uri": "https://localhost:8080/"
        },
        "outputId": "b6f4eecb-9aa9-42dd-891d-b9edbeba984d"
      },
      "source": [
        "!wget -c 'https://drive.google.com/uc?export=download&id=1rh6Rgjoyloyp2hPhTlOBD16yc7sc3gPy' -O data.zip\n",
        "!unzip -o data.zip "
      ],
      "execution_count": 42,
      "outputs": [
        {
          "output_type": "stream",
          "name": "stdout",
          "text": [
            "--2022-09-14 00:39:46--  https://drive.google.com/uc?export=download&id=1rh6Rgjoyloyp2hPhTlOBD16yc7sc3gPy\n",
            "Resolving drive.google.com (drive.google.com)... 172.253.115.102, 172.253.115.113, 172.253.115.100, ...\n",
            "Connecting to drive.google.com (drive.google.com)|172.253.115.102|:443... connected.\n",
            "HTTP request sent, awaiting response... 416 Requested range not satisfiable\n",
            "\n",
            "    The file is already fully retrieved; nothing to do.\n",
            "\n",
            "Archive:  data.zip\n",
            "  inflating: BLOSUM62.txt            \n",
            "  inflating: Q2b_reference.txt       \n"
          ]
        }
      ]
    },
    {
      "cell_type": "markdown",
      "metadata": {
        "deletable": false,
        "editable": false,
        "id": "HXQN16TjqcLN",
        "nbgrader": {
          "cell_type": "markdown",
          "checksum": "54a565efb33169187141a782be069559",
          "grade": false,
          "grade_id": "cell-ca95f93f1f5647b3",
          "locked": true,
          "schema_version": 3,
          "solution": false,
          "task": false
        }
      },
      "source": [
        "Show the downloaded data\n",
        "\n",
        "- `./BLOSUM62.txt`\n",
        "- `./Q2b_reference.txt`\n"
      ]
    },
    {
      "cell_type": "code",
      "metadata": {
        "deletable": false,
        "editable": false,
        "id": "81otexY9qQhK",
        "nbgrader": {
          "cell_type": "code",
          "checksum": "05a19d621e62d56f33f4685f56499b6c",
          "grade": false,
          "grade_id": "cell-072f3c8306ade380",
          "locked": true,
          "schema_version": 3,
          "solution": false,
          "task": false
        },
        "colab": {
          "base_uri": "https://localhost:8080/"
        },
        "outputId": "c0d25d13-aa5f-4209-cdef-4469a18be4cc"
      },
      "source": [
        "!ls *.txt"
      ],
      "execution_count": 43,
      "outputs": [
        {
          "output_type": "stream",
          "name": "stdout",
          "text": [
            "BLOSUM62.txt  Q2b_reference.txt\n"
          ]
        }
      ]
    },
    {
      "cell_type": "markdown",
      "metadata": {
        "deletable": false,
        "editable": false,
        "id": "cU1S-CaROZhA",
        "nbgrader": {
          "cell_type": "markdown",
          "checksum": "0c6df0b3f8f70e16ad29fe24689fd395",
          "grade": false,
          "grade_id": "cell-39da46b0553caf87",
          "locked": true,
          "schema_version": 3,
          "solution": false,
          "task": false
        }
      },
      "source": [
        "# Sequence Alignment\n",
        "\n",
        "In bioinformatics, the problem of sequence alignment is reducible to a generalized form of edit distance. Sequence alignment is an instance of the weighted edit distance problem. Here, the cost of the elementary operations may vary according to the symbols involved. This generalization allows us to more accurately model processes in biological sequences that may lead to substitutions, insertions or deletions.\n",
        "\n",
        "As we saw in lecture, we can store the costs of elementary operations in the form of a scoring matrix $\\delta :$ ($\\Sigma$ $\\cup$ $\\{-\\})^{2}\\rightarrow$ $\\mathbb{R}$. The values of this scoring matrix depend on the biological context.\n",
        "\n",
        "## BLOSUM62\n",
        "\n",
        "The most widely used scoring matrix in amino acid sequence alignments is known as BLOSUM62. You can read more about BLOSUM here:\n",
        "\n",
        "* https://www.sciencedirect.com/topics/biochemistry-genetics-and-molecular-biology/blosum\n",
        "* https://en.wikipedia.org/wiki/BLOSUM\n",
        "\n",
        "The BLOSUM.txt file that came in the HW1_supplement.zip contains the matrix. You can also download the BLOSUM62 matrix at https://www.ncbi.nlm.nih.gov/Class/FieldGuide/BLOSUM62.txt\n",
        " \n",
        "Note: \n",
        "* The `read_blosum62` function is specifically tailored to read only the file above. You should not need to change this function. \n",
        "* The matrix uses the `*` character for gaps, but we change it here to the `-` character. "
      ]
    },
    {
      "cell_type": "code",
      "metadata": {
        "deletable": false,
        "editable": false,
        "id": "koon2oagOZhB",
        "nbgrader": {
          "cell_type": "code",
          "checksum": "3ed9bf770fe297b28f2ef15be5f7078d",
          "grade": false,
          "grade_id": "cell-79015f4ae29772af",
          "locked": true,
          "schema_version": 3,
          "solution": false,
          "task": false
        }
      },
      "source": [
        "def read_blosum62(path):\n",
        "    \"\"\"\n",
        "    Reads in the ncbi's BLOSUM62.txt file and loads the scoring matrix\n",
        "    into a dictionary.\n",
        "    \n",
        "    :param: path is the full path in the local filesystem at which the .txt file is located\n",
        "    :return: a dictionary of dictionaries which will hold the cost of various amino acid\n",
        "    substitutions as defined in BLOSUM62.\n",
        "    \"\"\"\n",
        "    delta = {}\n",
        "    with open(path, 'r') as f:\n",
        "        lines = f.readlines()[6:]\n",
        "        keys = lines[0].split()\n",
        "        keys[-1] = '-'\n",
        "        for i, line in enumerate(lines[1:]):\n",
        "            delta[keys[i]] = {k : int(v) for (k,v) in zip(keys, line.split()[1:])}  \n",
        "    return delta\n",
        "\n",
        "blosum = read_blosum62('./BLOSUM62.txt')"
      ],
      "execution_count": 44,
      "outputs": []
    },
    {
      "cell_type": "markdown",
      "metadata": {
        "deletable": false,
        "editable": false,
        "id": "WAKc2TT1OZhI",
        "nbgrader": {
          "cell_type": "markdown",
          "checksum": "5f05e46a86d4ef4a4347a34a88920537",
          "grade": false,
          "grade_id": "cell-7313ce91a551975d",
          "locked": true,
          "schema_version": 3,
          "solution": false,
          "task": false
        }
      },
      "source": [
        "## Question 1a - Global Alignment - 10 points\n",
        "\n",
        "Complete the function `global_align` defined below that uses the Needleman-Wunsch algorithm for global sequence alignment. The function should take two strings, and a scoring function, and compute the score of the optimal global alignment. It should return a tuple `(best score, optimal alignment)`.\n",
        "\n",
        "We have provided a function `traceback_global` that takes the two strings `v` and `w`, and a list of lists called\n",
        "`pointers`. This list is what you will use to record backpointers while running your sequence alignment algorithm.\n",
        "Each `pointers[i][j]` will be one of `UP`, `LEFT`, `TOPLEFT` or `ORIGIN`. The `traceback_global` function will insert gaps into the two strings where necessary, according to the backpointer table you pass it, and return the alignment to you. \n",
        "\n",
        "*Hint: Feel free to define helper functions for this and future questions on this notebook.*"
      ]
    },
    {
      "cell_type": "code",
      "metadata": {
        "deletable": false,
        "id": "GYSXMRcOOZhK",
        "nbgrader": {
          "cell_type": "code",
          "checksum": "5354883b9055e097c9b2e0f48edd193f",
          "grade": false,
          "grade_id": "cell-dc425c49e7d9bc70",
          "locked": false,
          "schema_version": 3,
          "solution": true
        }
      },
      "source": [
        "UP = (-1,0)\n",
        "LEFT = (0, -1)\n",
        "TOPLEFT = (-1, -1)\n",
        "ORIGIN = (0, 0)\n",
        "\n",
        "def traceback_global(v, w, pointers):\n",
        "    i,j = len(v), len(w)\n",
        "    new_v = []\n",
        "    new_w = []\n",
        "    while True:\n",
        "        di, dj = pointers[i][j]\n",
        "        if (di,dj) == LEFT:\n",
        "            new_v.append('-')\n",
        "            new_w.append(w[j-1])\n",
        "        elif (di,dj) == UP:\n",
        "            new_v.append(v[i-1])\n",
        "            new_w.append('-')\n",
        "        elif (di,dj) == TOPLEFT:\n",
        "            new_v.append(v[i-1])\n",
        "            new_w.append(w[j-1])\n",
        "        i, j = i + di, j + dj\n",
        "        if (i <= 0 and j <= 0):\n",
        "            break\n",
        "    return ''.join(new_v[::-1])+'\\n'+''.join(new_w[::-1])\n",
        "    \n",
        "\n",
        "\n",
        "def global_align(v, w, delta):\n",
        "    \"\"\"\n",
        "    Returns the score of the maximum scoring alignment of the strings v and w, as well as the actual alignment as \n",
        "    computed by traceback_global. \n",
        "    \n",
        "    :param: v\n",
        "    :param: w\n",
        "    :param: delta\n",
        "    \"\"\"\n",
        "    M = [[0 for j in range(len(w)+1)] for i in range(len(v)+1)]\n",
        "    pointers = [[ORIGIN for j in range(len(w)+1)] for i in range(len(v)+1)]\n",
        "    score, alignment = None, None\n",
        "    # YOUR CODE HERE\n",
        "    arrow = ORIGIN;\n",
        "\n",
        "    for row  in range(len(v)+1):\n",
        "      for column in range(len(w)+1):\n",
        "        if row==0 and column==0:\n",
        "           score=0;\n",
        "        elif row == 0:\n",
        "          #We're on the first row\n",
        "          #but NOT in the corner\n",
        "          \n",
        "          #Get the score of the previous cell (to the left) in the matrix and add the gap penalty\\\n",
        "          previous_score = M[row][column - 1]\n",
        "          # we are using column-1 to get index of sequence because table has one xtra roew abnd column\n",
        "          score = M[row][column - 1] + delta['-'][w[column-1]]\n",
        "          arrow = LEFT\n",
        "        elif column == 0:\n",
        "            #We're on the first column but not in the first row\n",
        "         #  previous_score = M[row -1,column]\n",
        "      \n",
        "          score = M[row-1][column] + delta[v[row-1]]['-']\n",
        "          arrow = UP\n",
        "        else: \n",
        "          #We're in a 'middle' cell of the alignment\n",
        "          \n",
        "          #Calculate the scores for coming from above,\n",
        "          #from the left, (representing an insertion into seq1)\n",
        "          cell_to_the_left = M[row][column-1]\n",
        "          from_left_score = M[row][column-1] + delta['-'][w[column-1]]\n",
        "            \n",
        "          #or from above (representing an insertion into seq2)\n",
        "          above_cell = M[row-1][column]\n",
        "          from_above_score = M[row-1][column] +  delta[v[row-1]]['-']\n",
        "          \n",
        "          #diagonal cell, representing a substitution (e.g. A --> T)\n",
        "          diagonal_left_cell = M[row-1][column-1]\n",
        "          \n",
        "\n",
        "          #NOTE: since the table has an extra row and column (the blank ones), \n",
        "          #when indexing back to the sequence we want row -1 and col - 1.\n",
        "          #since row 1 represents character 0 of the sequence.\n",
        "\n",
        "          # delta[v[row-1]][w[column-1]] = gives match or mismatch penalty\n",
        "          diagonal_left_cell_score = diagonal_left_cell + delta[v[row-1]][w[column-1]]\n",
        "          \n",
        "          score = max([from_left_score,from_above_score,diagonal_left_cell_score]) \n",
        "          #make note of which cell was the max in the traceback array \n",
        "          #using Unicode arrows\n",
        "          if score == from_left_score:\n",
        "              arrow = LEFT\n",
        "          elif score == from_above_score:\n",
        "              arrow = UP\n",
        "          elif score == diagonal_left_cell_score:\n",
        "              arrow = TOPLEFT\n",
        "        pointers[row][column] = arrow\n",
        "        M[row][column] = score\n",
        "    \n",
        "    alignment = traceback_global(v,w, pointers)\n",
        "    return score, alignment"
      ],
      "execution_count": 45,
      "outputs": []
    },
    {
      "cell_type": "code",
      "metadata": {
        "deletable": false,
        "editable": false,
        "id": "YDB27GULOZhQ",
        "nbgrader": {
          "cell_type": "code",
          "checksum": "91ada5c22df2c04835466b3bf2753e1e",
          "grade": false,
          "grade_id": "cell-b12395628f2fa9dd",
          "locked": true,
          "schema_version": 3,
          "solution": false,
          "task": false
        },
        "colab": {
          "base_uri": "https://localhost:8080/"
        },
        "outputId": "d021c2a6-3d8a-400b-f675-c11accd0c809"
      },
      "source": [
        "keys = ['A', 'C', 'T', 'G', '-']\n",
        "delta = {}\n",
        "for i in range(len(keys)):\n",
        "    delta[keys[i]] = {k : v for (k,v) in zip(keys, [1 if keys[i] == keys[j]  else -1 for j in range(len(keys))])}\n",
        "#print(delta)\n",
        "global_align(\"TAGATA\", \"GTAGGCTTAAGGTTA\", delta)"
      ],
      "execution_count": 46,
      "outputs": [
        {
          "output_type": "execute_result",
          "data": {
            "text/plain": [
              "(-3, '-TAG----A---T-A\\nGTAGGCTTAAGGTTA')"
            ]
          },
          "metadata": {},
          "execution_count": 46
        }
      ]
    },
    {
      "cell_type": "markdown",
      "source": [
        "https://colab.research.google.com/github/zaneveld/full_spectrum_bioinformatics/blob/master/content/08_phylogenetic_trees/needleman_wunsch_alignment.ipynb#scrollTo=ZtuzMYw60DIS\n",
        "\n",
        "---\n",
        "\n"
      ],
      "metadata": {
        "id": "DGuVVZ0STtTN"
      }
    },
    {
      "cell_type": "markdown",
      "metadata": {
        "deletable": false,
        "editable": false,
        "id": "q5vkthR4OZhZ",
        "nbgrader": {
          "cell_type": "markdown",
          "checksum": "fd46dd5f09a047c053499740919d59e0",
          "grade": false,
          "grade_id": "cell-d56bb7c7c2161ad4",
          "locked": true,
          "schema_version": 3,
          "solution": false
        }
      },
      "source": [
        "## Question 1b -- Global Alignment, Protein Data Bank -- 5 points\n",
        "\n",
        "https://www.rcsb.org/ provides a database of most known proteins. The search functionality allows us to find information on proteins via their *PDB ID* (https://www.rcsb.org/pdb/staticHelp.do?p=help/advancedsearch/pdbIDs.html). You can get the exact amino acid sequence of chains in a protein by searching via the PDB ID, then under the *Display Files* dropdown menu, clicking *FASTA Sequence*.\n",
        "\n",
        "Use the function `global_align` with the BLOSUM62 scoring matrix to find the alignment score for the following pairs of amino acid sequences\n",
        "* The A-chain of human insulin (#4F1C:A) and the A-chain of bovine insulin (#2ZP6:A). Set the variable `scoreA` below to this value.\n",
        "* The B-chain of the above proteins. Set the variable `scoreB` below to this value.\n",
        "* Set the `alignmentA` and `alignmentB` variables to the output of `traceback_global` function for both chains."
      ]
    },
    {
      "cell_type": "code",
      "metadata": {
        "deletable": false,
        "id": "0ufBjeDAOZha",
        "nbgrader": {
          "cell_type": "code",
          "checksum": "7a147ece2028f8712af5a3bde20d20de",
          "grade": false,
          "grade_id": "cell-41162815d1c04b75",
          "locked": false,
          "schema_version": 3,
          "solution": true
        },
        "colab": {
          "base_uri": "https://localhost:8080/"
        },
        "outputId": "3f3591fe-423b-4b6f-d8d8-ae26f96f5a1f"
      },
      "source": [
        "scoreA = 'GIVEQCCTSICSLYQLENYCN'\n",
        "scoreB = 'GIVEQCCASVCSLYQLENYCN'\n",
        "\n",
        "alignment= global_align(scoreA, scoreB, blosum)\n",
        "print(alignment)\n",
        "alignmentArray = alignment[1].split('\\n')\n",
        "if(len(alignmentArray)==2):\n",
        "  alignmentA = alignmentArray[0]\n",
        "  alignmentB = alignmentArray[1]\n",
        "# print(alignmentA)\n",
        "# print(alignmentB)"
      ],
      "execution_count": 47,
      "outputs": [
        {
          "output_type": "stream",
          "name": "stdout",
          "text": [
            "(115, 'GIVEQCCTSICSLYQLENYCN\\nGIVEQCCASVCSLYQLENYCN')\n"
          ]
        }
      ]
    },
    {
      "cell_type": "code",
      "metadata": {
        "deletable": false,
        "editable": false,
        "id": "1wF4ZXevOZhd",
        "nbgrader": {
          "cell_type": "code",
          "checksum": "ee6ae164952208c06d856d2df5199baf",
          "grade": true,
          "grade_id": "cell-49569ad025096c67",
          "locked": true,
          "points": 15,
          "schema_version": 3,
          "solution": false
        }
      },
      "source": [
        "import nose.tools as Test\n",
        "\n",
        "# Student test cases (You may add more)\n",
        "Test.assert_equal(global_align('LRRGEPVY', 'LEKGDTLYILVG', blosum), (5, 'LRRGEPVY----\\nLEKGDTLYILVG'))\n",
        "Test.assert_equal(global_align('ALYFFT', 'QCASVT', blosum), (-2, 'ALYFFT\\nQCASVT'))\n",
        "keys = ['A', 'C', 'T', 'G', '-']\n",
        "delta = {}\n",
        "for i in range(len(keys)):\n",
        "    delta[keys[i]] = {k : v for (k,v) in zip(keys, [1 if keys[i] == keys[j]  else -1 for j in range(len(keys))])}\n",
        "Test.assert_equal(global_align('GTTTTATAGC', 'TGGATCGAT', delta),(-3, 'GTTTTATAGC-\\n-TGG-ATCGAT'))\n"
      ],
      "execution_count": 48,
      "outputs": []
    },
    {
      "cell_type": "markdown",
      "metadata": {
        "deletable": false,
        "editable": false,
        "id": "JwAWBxVcOZhg",
        "nbgrader": {
          "cell_type": "markdown",
          "checksum": "26b3ac60de75ffd21be9c8d51d3143ec",
          "grade": false,
          "grade_id": "cell-6d9a3fa41e5c50f5",
          "locked": true,
          "schema_version": 3,
          "solution": false
        }
      },
      "source": [
        "## Question 2a - Fitting Alignment - 10 points\n",
        "\n",
        "As we know, next generation sequencing doesn't produce a fully sequenced genome, but rather many short reads. Here, we use fitting alignment. \n",
        "\n",
        "Complete the `fitting_align` function defined below. The function should take a short read string, a reference genome string, and a scoring matrix, and return the score of the maximum scoring alignment of the short read and all substrings of the reference string, along with the actual fitting alignmnet as computed by the given function `traceback_fitting`. This function is similar to `traceback_global` but also requires you to pass in your dynamic programming table `M`, as well as the starting column for the backtrace `init_j`. \n",
        "\n",
        "** Note: In the case of ties with respect to determining the starting column for the backtrace, use the rightmost.**"
      ]
    },
    {
      "cell_type": "code",
      "metadata": {
        "deletable": false,
        "id": "DE_7Cs8TOZhi",
        "nbgrader": {
          "cell_type": "code",
          "checksum": "942624b28c5ee01e928fba546e850b16",
          "grade": false,
          "grade_id": "cell-5907258be80654a4",
          "locked": false,
          "schema_version": 3,
          "solution": true
        }
      },
      "source": [
        "UP = (-1,0)\n",
        "LEFT = (0, -1)\n",
        "TOPLEFT = (-1, -1)\n",
        "ORIGIN = (0, 0)\n",
        "\n",
        "def traceback_fitting(v, w, M, init_j, pointers):\n",
        "    i, j = len(v), init_j\n",
        "    new_v = []\n",
        "    new_w = []\n",
        "    while True:\n",
        "        di, dj = pointers[i][j]\n",
        "        if (di,dj) == LEFT:\n",
        "            new_v.append('-')\n",
        "            new_w.append(w[j-1])\n",
        "        elif (di,dj) == UP:\n",
        "            new_v.append(v[i-1])\n",
        "            new_w.append('-')\n",
        "        elif (di,dj) == TOPLEFT:\n",
        "            new_v.append(v[i-1])\n",
        "            new_w.append(w[j-1])\n",
        "        i, j = i + di, j + dj\n",
        "        if (i <= 0):\n",
        "            break\n",
        "    return ''.join(new_v[::-1]) + '\\n'+''.join(new_w[::-1])\n",
        "\n",
        "def fitting_align(short, reference, delta):\n",
        "    \"\"\"\n",
        "    Returns the score of the maximum scoring alignment of short and all \n",
        "    substrings of reference. \n",
        "    \n",
        "    :param: short the shorter of the two strings we are trying to align    \n",
        "    :param: reference the longer string among whose substrings we are doing global alignment\n",
        "    :param: delta the scoring function for the alphabet of the two strings\n",
        "    \n",
        "    :returns: a tuple (score, alignment)\n",
        "    \"\"\"\n",
        "    M = [[0 for j in range(len(reference)+1)] for i in range(len(short)+1)]     \n",
        "    pointers = [[ORIGIN for j in range(len(reference)+1)] for i in range(len(short)+1)] \n",
        "    score = None\n",
        "    arrow = ORIGIN\n",
        "    init_j = 0\n",
        "    \n",
        "    for row  in range(len(short)+1):\n",
        "      for column in range(len(reference)+1):\n",
        "        if row==0 and column==0:\n",
        "           score=0;\n",
        "        elif row == 0:\n",
        "          #We're on the first row\n",
        "          #but NOT in the corner\n",
        "          \n",
        "          score = 0\n",
        "          arrow = LEFT\n",
        "        elif column == 0:\n",
        "            #We're on the first column but not in the first row\n",
        "         #  previous_score = M[row -1,column]\n",
        "      \n",
        "          score = M[row-1][column] + delta[short[row-1]]['-']\n",
        "          arrow = UP\n",
        "        else: \n",
        "          #We're in a 'middle' cell of the alignment\n",
        "          \n",
        "          #Calculate the scores for coming from above,\n",
        "          #from the left, (representing an insertion into seq1)\n",
        "\n",
        "          cell_to_the_left = M[row][column-1]\n",
        "          from_left_score = M[row][column-1] + delta['-'][reference[column-1]]\n",
        "\n",
        "          #or from above (representing an insertion into seq2)\n",
        "        \n",
        "          above_cell = M[row-1][column]\n",
        "          from_above_score = M[row-1][column] +  delta[short[row-1]]['-']\n",
        "          \n",
        "          #diagonal cell, representing a substitution (e.g. A --> T)\n",
        "          diagonal_left_cell = M[row-1][column-1]\n",
        "          \n",
        "\n",
        "          #NOTE: since the table has an extra row and column (the blank ones), \n",
        "          #when indexing back to the sequence we want row -1 and col - 1.\n",
        "          #since row 1 represents character 0 of the sequence.\n",
        "\n",
        "          # delta[v[row-1]][w[column-1]] = gives match or mismatch penalty\n",
        "          diagonal_left_cell_score = diagonal_left_cell + delta[short[row-1]][reference[column-1]]\n",
        "          \n",
        "          score = max([from_left_score,from_above_score,diagonal_left_cell_score]) \n",
        "          #make note of which cell was the max in the traceback array \n",
        "          #using Unicode arrows\n",
        "          if score == from_left_score:\n",
        "              arrow = LEFT\n",
        "          elif score == from_above_score:\n",
        "              arrow = UP\n",
        "          elif score == diagonal_left_cell_score:\n",
        "              arrow = TOPLEFT\n",
        "        pointers[row][column] = arrow\n",
        "        M[row][column] = score\n",
        "\n",
        "    numpyScoringMatrix = np.array(M)\n",
        "    score = np.amax(numpyScoringMatrix[len(short)])\n",
        "    init_j = np.argmax(numpyScoringMatrix[len(short)]) # get the value of column for which score is max\n",
        "    #print(score)\n",
        "    #print(np.argmax(numpyScoringMatrix[len(short)]))\n",
        "    alignment = traceback_fitting(short,reference,M, init_j,pointers)\n",
        "    return score, alignment"
      ],
      "execution_count": 49,
      "outputs": []
    },
    {
      "cell_type": "code",
      "metadata": {
        "deletable": false,
        "editable": false,
        "id": "SBkmkQnOOZho",
        "nbgrader": {
          "cell_type": "code",
          "checksum": "1bfbb680b133f189241d252202da63e3",
          "grade": false,
          "grade_id": "cell-dadf534ca78fa160",
          "locked": true,
          "schema_version": 3,
          "solution": false,
          "task": false
        },
        "colab": {
          "base_uri": "https://localhost:8080/"
        },
        "outputId": "3c75d717-57f3-487d-d596-9fd4f6003aa8"
      },
      "source": [
        "keys = ['A', 'C', 'T', 'G', '-']\n",
        "delta = {}\n",
        "for i in range(len(keys)):\n",
        "    delta[keys[i]] = {k : v for (k,v) in zip(keys, [1 if keys[i] == keys[j]  else -1 for j in range(len(keys))])}\n",
        "    \n",
        "fitting_align(\"TAGATA\", \"GTAGGCTTAAGGTTA\", delta)"
      ],
      "execution_count": 50,
      "outputs": [
        {
          "output_type": "execute_result",
          "data": {
            "text/plain": [
              "(2, 'TAGA-T-A\\nTAGGCTTA')"
            ]
          },
          "metadata": {},
          "execution_count": 50
        }
      ]
    },
    {
      "cell_type": "code",
      "metadata": {
        "deletable": false,
        "editable": false,
        "id": "FXxKgA-eOZhu",
        "nbgrader": {
          "cell_type": "code",
          "checksum": "cce75b39812f16ec3365167f7ccd15e6",
          "grade": true,
          "grade_id": "cell-057e4f4d500c3780",
          "locked": true,
          "points": 10,
          "schema_version": 3,
          "solution": false
        }
      },
      "source": [
        "import nose.tools as Test\n",
        "\n",
        "# Define scoring matrix\n",
        "keys = ['A', 'C', 'T', 'G', '-']\n",
        "delta = {}\n",
        "for i in range(len(keys)):\n",
        "    delta[keys[i]] = {k : v for (k,v) in zip(keys, [1 if keys[i] == keys[j]  else -1 for j in range(len(keys))])}\n",
        "delta['-']['-'] = -1\n",
        "\n",
        "# Student test cases (You can add more)\n",
        "Test.assert_equal(fitting_align('ACTGCT', 'ACTGTCGTACGTGTACGTGCTATTACGATTCGGATGCATTGTGCATTTGGGCGATCTTATTCTTATC', delta),\\\n",
        "                  (5, 'AC-TGCT\\nACGTGCT'))\n",
        "Test.assert_equal(fitting_align('PPPVP','MHHHHHHSSPIDPPGKPVPLNITRHTVTLKWAKPEYTGGFKITSYIVEKRDLPNGRWLKANFSNILENEFTVSGLTEDAA\\\n",
        "YEFRVIAKNAAGAISPPSEPSDAITCRDDVEA', blosum), (24, 'PP--PVP\\nPPGKPVP'))\n"
      ],
      "execution_count": 51,
      "outputs": []
    },
    {
      "cell_type": "markdown",
      "metadata": {
        "deletable": false,
        "editable": false,
        "id": "uOeVGMqQJN1J",
        "nbgrader": {
          "cell_type": "markdown",
          "checksum": "4bfd2b3276393f45ff9563257d8281f4",
          "grade": false,
          "grade_id": "cell-7e4c42b0bbd3e634",
          "locked": true,
          "schema_version": 3,
          "solution": false,
          "task": false
        }
      },
      "source": [
        "## Question 2b - Fitting Alignment - 5 points\n",
        "\n",
        "After writing the function use it to align the reference sequence `./Q2b_reference.txt` and the short read provided below. The reference is a partial version of the human Y-chromosome reference found at ftp://ftp.ncbi.nih.gov/genomes/H_sapiens/CHR_Y/. \n",
        "\n",
        "Set the variable `score_fitting` to the fitting alignment score, and set the `alignment_fitting` to the output of the `traceback_fitting` function. You can use the scoring matrix defined below. \n",
        "\n",
        "** Note: The reference sequence is very large, and so the fitting alignment will take a few minutes. Make sure you use dynamic programming to implement your alignment functions, or the cell will never finish. **"
      ]
    },
    {
      "cell_type": "code",
      "metadata": {
        "deletable": false,
        "editable": false,
        "id": "-bzNflRBOZhr",
        "nbgrader": {
          "cell_type": "code",
          "checksum": "0fae1e7c45ccf4cf10c22eec86b6f0c5",
          "grade": true,
          "grade_id": "cell-4e3457bc42a54b0d",
          "locked": true,
          "points": 5,
          "schema_version": 3,
          "solution": false,
          "task": false
        }
      },
      "source": [
        "short = 'AGAAGTGAGTTTTGGATAGTAAAATAAGTTTCGAACTCTGGCACCTTTCAATTTTGTCGCACTCTCCTTGTTTTTGACAATGCAATCATATGCTTCTGCT'\n",
        "keys = ['A', 'C', 'T', 'G', '-']\n",
        "delta_fitting = {}\n",
        "for i in range(len(keys)):\n",
        "    delta_fitting[keys[i]] = {k : v for (k,v) in zip(keys, [1 if keys[i] == keys[j]  else -1 for j in range(len(keys))])}\n",
        "delta_fitting['-']['-'] = -1\n",
        "\n",
        "# Read the reference sequence, and call your fittinga alignment function\n",
        "\n",
        "with open('./Q2b_reference.txt') as f:\n",
        "    reference = f.readline()\n",
        "    \n",
        "fitting_response = fitting_align(short, reference, delta_fitting)\n",
        "score_fitting = fitting_response[0]\n",
        "alignment_fitting = fitting_response[1]\n",
        "\n",
        "\n"
      ],
      "execution_count": 52,
      "outputs": []
    },
    {
      "cell_type": "markdown",
      "source": [
        "**Solution:**\n",
        "\n",
        "score = 33 \n",
        "\n",
        "**Alignment**\n",
        "\n",
        "AGAAG-T-GAGTTTTGGATAGTAAAATAAGTTT-CGAAC-TCTGG---CACC-TT-T-CAATTTTGTCGC-ACTCTCCTTG-TTTT-TGACAA--TGCAATCATAT-GCTT-C-TGC-T\n",
        "AGATGATTG-GTTTTAGATATTT---TAAGTTTTCAAACATATGGATTCAGTGTTATACA-TTTC-TCTCTACTC-CCT-GCTTTTCTGT-AACCTGCAA--ATATTGATAGCGTGCAT\n"
      ],
      "metadata": {
        "id": "0LnyTIiq9zrb"
      }
    },
    {
      "cell_type": "markdown",
      "metadata": {
        "deletable": false,
        "editable": false,
        "id": "uduGvQzLOZhw",
        "nbgrader": {
          "cell_type": "markdown",
          "checksum": "c2fafaf12a25e4761b1b5d08a9bcc4d7",
          "grade": false,
          "grade_id": "cell-af7eaef73243d09f",
          "locked": true,
          "schema_version": 3,
          "solution": false,
          "task": false
        }
      },
      "source": [
        "## Question 2c - 5 points\n",
        "\n",
        "Find the name of the gene the short read in the question above originated from. Save your answer in variable `ANSWER` below. \n",
        "\n",
        "*Hint : There is an online tool that will do this for you*"
      ]
    },
    {
      "cell_type": "code",
      "metadata": {
        "deletable": false,
        "id": "BnFkAzwmJ2DX",
        "nbgrader": {
          "cell_type": "code",
          "checksum": "1d875efd3d7df9a00d3c5bc16d586c70",
          "grade": true,
          "grade_id": "cell-39bf2f4158cb333b",
          "locked": false,
          "points": 5,
          "schema_version": 3,
          "solution": true,
          "task": false
        }
      },
      "source": [
        "# YOUR CODE HERE\n",
        "#Homo sapiens chromosome Y, GRCh38.p14 Primary Assembly\n",
        "#Homo sapiens sex determining region Y (SRY), mRNA\n",
        "ANSWER = 'Homo sapiens chromosome Y, GRCh38.p14 Primary Assembly'"
      ],
      "execution_count": 54,
      "outputs": []
    },
    {
      "cell_type": "markdown",
      "source": [
        "Used this link https://blast.ncbi.nlm.nih.gov/Blast.cgi"
      ],
      "metadata": {
        "id": "VZnCrIuRrpKi"
      }
    },
    {
      "cell_type": "markdown",
      "metadata": {
        "deletable": false,
        "editable": false,
        "id": "7mlMDzKFOZhy",
        "nbgrader": {
          "cell_type": "markdown",
          "checksum": "a09acaf845b4df58f0e8c364162c0ca7",
          "grade": false,
          "grade_id": "cell-c0c661536a3b56c8",
          "locked": true,
          "schema_version": 3,
          "solution": false
        }
      },
      "source": [
        "## Question 3 - Local Alignment - 15 points\n",
        "\n",
        "Finally, we use local alignment for things like aligning functional units of proteins called domains. \n",
        "\n",
        "Use the Smith-Waterman algorithm to complete the function `local_align` defined below that takes two strings `v` and `w` and a scoring matrix, and returns the maximum scoring global alignment across all substrings of `v` and `w`, as well as the alignment string produced by `traceback_local`. As with the above functions, you must record backpointers. This function is very similar to `traceback_fitting`, except it also takes the starting cell for the back trace in the form of coordinates `init_i, init_j`. \n",
        "\n",
        "** Note: In the case of ties with respect to determining the starting column for the backtrace, use the bottom-right most cell.**"
      ]
    },
    {
      "cell_type": "code",
      "metadata": {
        "deletable": false,
        "id": "pCgYmqFYOZhy",
        "nbgrader": {
          "cell_type": "code",
          "checksum": "27a9cd3105f1fedb3e59b52208f62da2",
          "grade": false,
          "grade_id": "cell-0f8d6da9a1e58ec1",
          "locked": false,
          "schema_version": 3,
          "solution": true
        }
      },
      "source": [
        "UP = (-1,0)\n",
        "LEFT = (0, -1)\n",
        "TOPLEFT = (-1, -1)\n",
        "ORIGIN = (0, 0)\n",
        "\n",
        "def traceback_local(v, w, M, init_i, init_j, pointers):\n",
        "    i,j = init_i, init_j\n",
        "    new_v = []\n",
        "    new_w = []\n",
        "    while True:\n",
        "        di, dj = pointers[i][j]\n",
        "        if (di,dj) == LEFT:\n",
        "            new_v.append('-')\n",
        "            new_w.append(w[j-1])\n",
        "        elif (di,dj) == UP:\n",
        "            new_v.append(v[i-1])\n",
        "            new_w.append('-')\n",
        "        elif (di,dj) == TOPLEFT:\n",
        "            new_v.append(v[i-1])\n",
        "            new_w.append(w[j-1])\n",
        "        i, j = i + di, j + dj\n",
        "        if (M[i][j] == 0):\n",
        "            break\n",
        "    return ''.join(new_v[::-1]) + '\\n'+''.join(new_w[::-1])\n",
        "\n",
        "def local_align(v, w, delta):\n",
        "    \"\"\"\n",
        "    Returns the score of the maximum scoring alignment of all possible substrings of v and w. \n",
        "    \n",
        "    :param: v\n",
        "    :param: w\n",
        "    :param: delta\n",
        "    \"\"\"\n",
        "    M = [[0 for j in range(len(w)+1)] for i in range(len(v)+1)]        \n",
        "    pointers = [[ORIGIN for j in range(len(w)+1)] for i in range(len(v)+1)] \n",
        "    score = None\n",
        "    init_i, init_j = 0,0\n",
        "    # YOUR CODE HERE\n",
        "    arrow = ORIGIN;\n",
        "    best_score=0;\n",
        "    best_location =(0,0);\n",
        "\n",
        "    for row  in range(1, len(v)+1):\n",
        "      for column in range(1, len(w)+1):\n",
        "        #Calculate the scores for coming from above,\n",
        "        #from the left, (representing an insertion into seq1)\n",
        "        from_left_score = M[row][column-1] + delta['-'][w[column-1]]\n",
        "          \n",
        "        #or from above (representing an insertion into seq2)\n",
        "        from_above_score = M[row-1][column] +  delta[v[row-1]]['-']\n",
        "        \n",
        "        #diagonal cell, representing a substitution (e.g. A --> T)\n",
        "        diagonal_left_cell = M[row-1][column-1]\n",
        "        \n",
        "\n",
        "        #NOTE: since the table has an extra row and column (the blank ones), \n",
        "        #when indexing back to the sequence we want row -1 and col - 1.\n",
        "        #since row 1 represents character 0 of the sequence.\n",
        "\n",
        "        # delta[v[row-1]][w[column-1]] = gives match or mismatch penalty\n",
        "        diagonal_left_cell_score = diagonal_left_cell + delta[v[row-1]][w[column-1]]\n",
        "        \n",
        "        score = max([from_left_score,from_above_score,diagonal_left_cell_score, 0]) \n",
        "        #make note of which cell was the max in the traceback array \n",
        "        #using Unicode arrows\n",
        "        if score == from_left_score:\n",
        "            arrow = LEFT\n",
        "        elif score == from_above_score:\n",
        "            arrow = UP\n",
        "        elif score == diagonal_left_cell_score:\n",
        "            arrow = TOPLEFT\n",
        "        if(score>=best_score):\n",
        "          best_score = score\n",
        "          best_location = (row, column)\n",
        "        pointers[row][column] = arrow\n",
        "        M[row][column] = score\n",
        "\n",
        "    init_i = best_location[0]\n",
        "    init_j= best_location[1]\n",
        "    alignment = traceback_local(v, w, M, init_i, init_j , pointers)\n",
        "    return best_score, alignment "
      ],
      "execution_count": 56,
      "outputs": []
    },
    {
      "cell_type": "code",
      "metadata": {
        "deletable": false,
        "editable": false,
        "id": "I2tynPENOZh1",
        "nbgrader": {
          "cell_type": "code",
          "checksum": "aa3ea79c644a000d93f2d6380bcd3448",
          "grade": false,
          "grade_id": "cell-17859569022d56aa",
          "locked": true,
          "schema_version": 3,
          "solution": false,
          "task": false
        },
        "colab": {
          "base_uri": "https://localhost:8080/"
        },
        "outputId": "2c3fd959-7022-494a-ab2f-83573e2981fb"
      },
      "source": [
        "keys = ['A', 'C', 'T', 'G', '-']\n",
        "delta = {}\n",
        "for i in range(len(keys)):\n",
        "    delta[keys[i]] = {k : v for (k,v) in zip(keys, [1 if keys[i] == keys[j]  else -1 for j in range(len(keys))])}\n",
        "    \n",
        "local_align(\"TAGATA\", \"GTAGGCTTAAGGTTA\", delta)"
      ],
      "execution_count": 57,
      "outputs": [
        {
          "output_type": "execute_result",
          "data": {
            "text/plain": [
              "(3, 'TAG\\nTAG')"
            ]
          },
          "metadata": {},
          "execution_count": 57
        }
      ]
    },
    {
      "cell_type": "markdown",
      "metadata": {
        "deletable": false,
        "editable": false,
        "id": "YcDDM9K8OZh3",
        "nbgrader": {
          "cell_type": "markdown",
          "checksum": "c733cac5c10bea38331f7b6c66872ad0",
          "grade": false,
          "grade_id": "cell-11d7b1653351158c",
          "locked": true,
          "schema_version": 3,
          "solution": false
        }
      },
      "source": [
        "Use your `local_align` function to find the common domain between the two amino acid sequences given below. \n",
        "* Set the `score_local` variable to the output of your function. \n",
        "* Set the `alignment_local` variable to the output of the `traceback_local` function. "
      ]
    },
    {
      "cell_type": "code",
      "metadata": {
        "deletable": false,
        "id": "Q7gESLZxOZh4",
        "nbgrader": {
          "cell_type": "code",
          "checksum": "1d799a047c4609bff121b695e71e1629",
          "grade": false,
          "grade_id": "cell-f37ba5b055e2d307",
          "locked": false,
          "schema_version": 3,
          "solution": true
        }
      },
      "source": [
        "LTK_MOUSE = \"MGCSHRLLLWLGAAGTILCSNSEFQTPFLTPSLLPVLVLNSQEQKVTPTP\\\n",
        "SKLEPASLPNPLGTRGPWVFNTCGASGRSGPTQTQCDGAYTGSSVMVTVG\\\n",
        "AAGPLKGVQLWRVPDTGQYLISAYGAAGGKGAQNHLSRAHGIFLSAVFFL\\\n",
        "RRGEPVYILVGQQGQDACPGGSPESQLVCLGESGEHATTYGTERIPGWRR\\\n",
        "WAGGGGGGGGATSIFRLRAGEPEPLLVAAGGGGRSYRRRPDRGRTQAVPE\\\n",
        "RLETRAAAPGSGGRGGAAGGGSGWTSRAHSPQAGRSPREGAEGGEGCAEA\\\n",
        "WAALRWAAAGGFGGGGGACAAGGGGGGYRGGDTSESDLLWADGEDGTSFV\\\n",
        "HPSGELYLQPLAVTEGHGEVEIRKHPNCSHCPFKDCQWQAELWTAECTCP\\\n",
        "EGTELAVDNVTCMDLPTTASPLILMGAVVAALALSLLMMCAVLILVNQKC\\\n",
        "QGLWGTRLPGPELELSKLRSSAIRTAPNPYYCQVGLSPAQPWPLPPGLTE\\\n",
        "VSPANVTLLRALGHGAFGEVYEGLVTGLPGDSSPLPVAIKTLPELCSHQD\\\n",
        "ELDFLMEALIISKFSHQNIVRCVGLSFRSAPRLILLELMSGGDMKSFLRH\\\n",
        "SRPHPGQLAPLTMQDLLQLAQDIAQGCHYLEENHFIHRDIAARNCLLSCS\\\n",
        "GASRVAKIGDFGMARDIYQASYYRKGGRTLLPVKWMPPEALLEGLFTSKT\\\n",
        "DSWSFGVLLWEIFSLGYMPYPGHTNQEVLDFIATGNRMDPPRNCPGPVYR\\\n",
        "IMTQCWQHQPELRPDFGSILERIQYCTQDPDVLNSPLPVEPGPILEEEEA\\\n",
        "SRLGNRSLEGLRSPKPLELSSQNLKSWGGGLLGSWLPSGLKTLKPRCLQP\\\n",
        "QNIWNPTYGSWTPRGPQGEDTGIEHCNGSSSSSIPGIQ\"\n",
        "\n",
        "ATK_MOUSE = \"MGAAGFLWLLPPLLLAAASYSGAATDQRAGSPASGPPLQPREPLSYSRLQ\\\n",
        "RKSLAVDFVVPSLFRVYARDLLLPQPRSPSEPEAGGLEARGSLALDCEPL\\\n",
        "LRLLGPLPGISWADGASSPSPEAGPTLSRVLKGGSVRKLRRAKQLVLELG\\\n",
        "EETILEGCIGPPEEVAAVGILQFNLSELFSWWILHGEGRLRIRLMPEKKA\\\n",
        "SEVGREGRLSSAIRASQPRLLFQIFGTGHSSMESPSETPSPPGTFMWNLT\\\n",
        "WTMKDSFPFLSHRSRYGLECSFDFPCELEYSPPLHNHGNQSWSWRHVPSE\\\n",
        "EASRMNLLDGPEAEHSQEMPRGSFLLLNTSADSKHTILSPWMRSSSDHCT\\\n",
        "LAVSVHRHLQPSGRYVAQLLPHNEAGREILLVPTPGKHGWTVLQGRVGRP\\\n",
        "ANPFRVALEYISSGNRSLSAVDFFALKNCSEGTSPGSKMALQSSFTCWNG\\\n",
        "TVLQLGQACDFHQDCAQGEDEGQLCSKLPAGFYCNFENGFCGWTQSPLSP\\\n",
        "HMPRWQVRTLRDAHSQGHQGRALLLSTTDILASEGATVTSATFPAPMKNS\\\n",
        "PCELRMSWLIRGVLRGNVSLVLVENKTGKEQSRTVWHVATDEGLSLWQHT\\\n",
        "VLSLLDVTDRFWLQIVTWWGPGSRATVGFDNISISLDCYLTISGEEKMSL\\\n",
        "NSVPKSRNLFEKNPNKESKSWANISGPTPIFDPTVHWLFTTCGASGPHGP\\\n",
        "TQAQCNNAYQNSNLSVVVGSEGPLKGVQIWKVPATDTYSISGYGAAGGKG\\\n",
        "GKNTMMRSHGVSVLGIFNLEKGDTLYILVGQQGEDACPRANQLIQKVCVG\\\n",
        "ENNVIEEEIRVNRSVHEWAGGGGGGGGATYVFKMKDGVPVPLIIAAGGGG\\\n",
        "RAYGAKTETFHPERLESNSSVLGLNGNSGAAGGGGGWNDNTSLLWAGKSL\\\n",
        "LEGAAGGHSCPQAMKKWGWETRGGFGGGGGGCSSGGGGGGYIGGNAASNN\\\n",
        "DPEMDGEDGVSFISPLGILYTPALKVMEGHGEVNIKHYLNCSHCEVDECH\\\n",
        "MDPESHKVICFCDHGTVLADDGVSCIVSPTPEPHLPLSLILSVVTSALVA\\\n",
        "ALVLAFSGIMIVYRRKHQELQAMQMELQSPEYKLSKLRTSTIMTDYNPNY\\\n",
        "CFAGKTSSISDLKEVPRKNITLIRGLGHGAFGEVYEGQVSGMPNDPSPLQ\\\n",
        "VAVKTLPEVCSEQDELDFLMEALIISKFNHQNIVRCIGVSLQALPRFILL\\\n",
        "ELMAGGDLKSFLRETRPRPNQPTSLAMLDLLHVARDIACGCQYLEENHFI\\\n",
        "HRDIAARNCLLTCPGAGRIAKIGDFGMARDIYRASYYRKGGCAMLPVKWM\\\n",
        "PPEAFMEGIFTSKTDTWSFGVLLWEIFSLGYMPYPSKSNQEVLEFVTSGG\\\n",
        "RMDPPKNCPGPVYRIMTQCWQHQPEDRPNFAIILERIEYCTQDPDVINTA\\\n",
        "LPIEYGPVVEEEEKVPMRPKDPEGMPPLLVSPQPAKHEEASAAPQPAALT\\\n",
        "APGPSVKKPPGAGAGAGAGAGAGPVPRGAADRGHVNMAFSQPNPPPELHK\\\n",
        "GPGSRNKPTSLWNPTYGSWFTEKPAKKTHPPPGAEPQARAGAAEGGWTGP\\\n",
        "GAGPRRAEAALLLEPSALSATMKEVPLFRLRHFPCGNVNYGYQQQGLPLE\\\n",
        "ATAAPGDTMLKSKNKVTQPGP\"\n",
        "\n",
        "score_local, alignment_local = None, None\n",
        "# YOUR CODE HERE\n",
        "result=local_align(LTK_MOUSE, ATK_MOUSE, blosum)\n",
        "\n",
        "score_local =  result[0]\n",
        "alignment_local = result[1]"
      ],
      "execution_count": 58,
      "outputs": []
    },
    {
      "cell_type": "code",
      "metadata": {
        "deletable": false,
        "editable": false,
        "id": "bgL8YgDtOZh7",
        "nbgrader": {
          "cell_type": "code",
          "checksum": "085a1b8dfaf37054683e93c964609819",
          "grade": true,
          "grade_id": "cell-5b737423ad2b4fc0",
          "locked": true,
          "points": 15,
          "schema_version": 3,
          "solution": false
        }
      },
      "source": [
        "import nose.tools as Test\n",
        "# Student test cases (You may add more)\n",
        "keys = ['A', 'C', 'T', 'G', '-']\n",
        "delta_local = {}\n",
        "for i in range(len(keys)):\n",
        "    delta_local[keys[i]] = {k : v for (k,v) in zip(keys, [1 if keys[i] == keys[j]  else -1 for j in range(len(keys))])}\n",
        "delta_local['-']['-'] = -1\n",
        "Test.assert_equal(local_align(\"TACGTGACGTCTATCAT\", \"TTGTGCATGTATCTGAC\", delta_local), (6, 'GTGACGTCTATCAT\\nGTG-CATGTATC-T'))\n",
        "Test.assert_equal(local_align(\"ACTGATTTCGATGCTGTACGTGACGTACGTTTATTCTATCAT\", \"TCTGACTGTGACTATACTATTGTGCATGTATCTGACTAGCTAG\", delta_local),\\\n",
        "                  (13, 'ACTGATTTCGATGC-TGTA-CGTGACGTACGTTTA\\nACT-ATT--G-TGCATGTATC-TGAC-TA-GCT-A'))\n"
      ],
      "execution_count": 59,
      "outputs": []
    },
    {
      "cell_type": "markdown",
      "metadata": {
        "deletable": false,
        "editable": false,
        "id": "ljrUu28hOZhx",
        "nbgrader": {
          "cell_type": "code",
          "checksum": "009c50270d7e6aa04ea7238d0811717f",
          "grade": false,
          "grade_id": "cell-edf4cca8874386e9",
          "locked": true,
          "schema_version": 3,
          "solution": false,
          "task": false
        }
      },
      "source": []
    }
  ]
}
